{
  "nbformat": 4,
  "nbformat_minor": 0,
  "metadata": {
    "colab": {
      "provenance": [],
      "authorship_tag": "ABX9TyMb6nAKabhbOLIaBsiXatnc",
      "include_colab_link": true
    },
    "kernelspec": {
      "name": "python3",
      "display_name": "Python 3"
    },
    "language_info": {
      "name": "python"
    }
  },
  "cells": [
    {
      "cell_type": "markdown",
      "metadata": {
        "id": "view-in-github",
        "colab_type": "text"
      },
      "source": [
        "<a href=\"https://colab.research.google.com/github/awal015/AICapstone/blob/main/Untitled4.ipynb\" target=\"_parent\"><img src=\"https://colab.research.google.com/assets/colab-badge.svg\" alt=\"Open In Colab\"/></a>"
      ]
    },
    {
      "cell_type": "markdown",
      "source": [
        "This is the beginning of the notebook for my Capstone project for the USCD AI bootcamp June Cohort.\n",
        "The project will be a simple boardgame recommender based on BGG.com datasets with multiple features such as titles, ratings, mechanics, etc.  The data set is sourced trhough Kaggle."
      ],
      "metadata": {
        "id": "hCr11IkhXCDa"
      }
    }
  ]
}